{
  "cells": [
    {
      "cell_type": "markdown",
      "metadata": {
        "id": "0xzbVGolIg08"
      },
      "source": [
        "# Deep Learning\n",
        "## Actividad 1: Deep Vision"
      ]
    },
    {
      "cell_type": "markdown",
      "metadata": {
        "id": "bNZMjRUJaNv7"
      },
      "source": [
        "GRUPO 7\n",
        "\n",
        "Alina Oganesyan  \n",
        "Celia Vincent  \n",
        "Orlando Dotollo  "
      ]
    },
    {
      "cell_type": "markdown",
      "metadata": {
        "id": "BhWjErKXWMTl"
      },
      "source": [
        "# Actividad Deep Vision\n",
        "\n",
        "Diseñar y comparar dos estrategias para la clasificación de imágenes en el dataset CIFAR100 de Keras (https://keras.io/api/datasets/cifar100/)\n",
        "\n",
        "### **Estrategia 1: Red pre-entrenada**\n",
        "\n",
        "La primera estrategia a comparar debe incluir la utilización de redes preentrenadas con el dataset ImageNet, llevando a cabo tareas de *transfer learning* y *fine-tuning* para clasificar los objetos de CIFAR100. Deben compararse al menos dos tipos de arquitecturas (VGGs, ResNet50, Xception, InceptionV3, InceptionResNetV2, MobileNetV2, DenseNet, ResNet...) y se debe seleccionar la que mayor precisión nos dé (información sobre las arquitecturas disponibles en https://keras.io/applications/). Se espera que el ejercicio presente una profunda experimentación haciendo uso todas las técnicas de optimización mostradas en clase de forma justificada para la mejora del rendimiento de la red neuronal (weight regularization, dropout, batch normalization, data augmentation, etc.).\n",
        "\n",
        "### **Estrategia 2: Entrenar desde cero o from scratch**\n",
        "\n",
        "La segunda estrategia a comparar será una red neuronal que se debe diseñar, entrenar y optimizar. Se requiere una justificación empírica de las decisiones que llevaron a la selección de atributos, capas e hiperparámetros a los que se ha llegado. Se espera que el ejercicio presente una profunda experimentación haciendo uso de todas las técnicas de optimización mostradas en clase de forma justificada para la mejora del rendimiento de la red neuronal (weight regularization, dropout, batch normalization, data augmentation...).\n",
        "\n",
        "## Normas a seguir\n",
        "\n",
        "- Se debe entregar un **ÚNICO GOOGLE COLAB notebook** (archivo .ipynb) que incluya las instrucciones presentes y su **EJECUCIÓN!!!**. Debe aparecer todo el proceso seguido (carga de datos, visualización de datos, proceso de entrenamiento y proceso de validación del modelo).\n",
        "- Poner el nombre del grupo en el nombre del archivo y el nombre de todos los integrantes del grupo al inicio del notebook.\n",
        "- Las redes utilizadas deben estar entrenadas y con las métricas extraídas en el conjunto de test.\n",
        "- Es recomendable crear una última sección de texto en el notebook en la que se discutan los diferentes modelos obtenidos y se extraigan las conclusiones pertinentes.\n",
        "\n",
        "## Criterio de evaluación\n",
        "\n",
        "- Seguimiento de las normas establecidas en la actividad.\n",
        "- Efectividad al presentar las comparaciones entre métricas de evaluación de ambos modelos.\n",
        "- Demostración de la utilización de técnicas de optimización para mejorar el rendimiento de los modelos.\n",
        "- Modelos predictivos con rendimiento superior al aleatorio.\n",
        "- Corrección en el uso de algoritmos, modelos y formas idiomáticas en Python.\n",
        "- El código debe poder ejecutarse sin modificación alguna en Google Colaboratory."
      ]
    },
    {
      "cell_type": "markdown",
      "metadata": {
        "id": "H0p5cu6LTUiZ"
      },
      "source": [
        "Recomendaciones en el Uso de Colab:\n",
        "\n",
        "- Eliminar las variables innecesarias para liberar RAM mediante la sentencia:"
      ]
    },
    {
      "cell_type": "markdown",
      "metadata": {
        "id": "DrTrtlo27sTi"
      },
      "source": [
        "del nombrevariable"
      ]
    },
    {
      "cell_type": "code",
      "execution_count": null,
      "metadata": {
        "colab": {
          "base_uri": "https://localhost:8080/"
        },
        "id": "B56j_TQR4hJm",
        "outputId": "2f1a9c76-6f4e-4812-fdd4-cdb31d0d0841"
      },
      "outputs": [
        {
          "name": "stdout",
          "output_type": "stream",
          "text": [
            "Drive already mounted at /content/drive/; to attempt to forcibly remount, call drive.mount(\"/content/drive/\", force_remount=True).\n"
          ]
        }
      ],
      "source": [
        "from google.colab import drive\n",
        "drive.mount('/content/drive/')\n",
        "\n",
        "BASE_FOLDER = '/content/drive/' # Ajustar el directorio raíz de Google Drive"
      ]
    },
    {
      "cell_type": "code",
      "execution_count": 1,
      "metadata": {
        "id": "Lv-_jfxuwK1X"
      },
      "outputs": [],
      "source": [
        "import pandas\n",
        "import numpy as np\n",
        "import matplotlib.pyplot as plt\n",
        "import tensorflow as tf\n",
        "from sklearn.preprocessing import LabelBinarizer\n"
      ]
    },
    {
      "cell_type": "code",
      "execution_count": 2,
      "metadata": {
        "colab": {
          "base_uri": "https://localhost:8080/"
        },
        "id": "TOLue6CL-fwl",
        "outputId": "e210ad21-015e-44c5-e07f-609576b57a5a"
      },
      "outputs": [
        {
          "output_type": "stream",
          "name": "stdout",
          "text": [
            "2.15.0\n"
          ]
        }
      ],
      "source": [
        "print(tf.__version__)"
      ]
    },
    {
      "cell_type": "code",
      "execution_count": 3,
      "metadata": {
        "colab": {
          "base_uri": "https://localhost:8080/"
        },
        "id": "RFjm7WwHgpXo",
        "outputId": "8e3b6fdc-73c2-46d1-df60-afbfcd582dec"
      },
      "outputs": [
        {
          "output_type": "stream",
          "name": "stdout",
          "text": [
            "[INFO]: Loading CIFAR-100 data...\n",
            "Downloading data from https://www.cs.toronto.edu/~kriz/cifar-100-python.tar.gz\n",
            "169001437/169001437 [==============================] - 18s 0us/step\n"
          ]
        }
      ],
      "source": [
        "# Carga de datos\n",
        "print(\"[INFO]: Loading CIFAR-100 data...\")\n",
        "cifar100 = tf.keras.datasets.cifar100\n",
        "((x_train, y_train), (x_test, y_test)) = cifar100.load_data()\n",
        "\n",
        "# CIFAR100 labelnames\n",
        "labelNames = ['apple', 'aquarium_fish', 'baby', 'bear', 'beaver', 'bed', 'bee', 'beetle', 'bicycle', 'bottle', 'bowl', 'boy', 'bridge', 'bus', 'butterfly', 'camel', 'can', 'castle', 'caterpillar', 'cattle', 'chair', 'chimpanzee', 'clock', 'cloud', 'cockroach', 'couch', 'crab', 'crocodile', 'cup', 'dinosaur', 'dolphin', 'elephant', 'flatfish', 'forest', 'fox', 'girl', 'hamster', 'house', 'kangaroo', 'keyboard', 'lamp', 'lawn_mower', 'leopard', 'lion', 'lizard', 'lobster', 'man', 'maple_tree', 'motorcycle', 'mountain', 'mouse', 'mushroom', 'oak_tree', 'orange', 'orchid', 'otter', 'palm_tree', 'pear', 'pickup_truck', 'pine_tree', 'plain', 'plate', 'poppy', 'porcupine', 'possum', 'rabbit', 'raccoon', 'ray', 'road', 'rocket', 'rose', 'sea', 'seal', 'shark', 'shrew', 'skunk', 'skyscraper', 'snail', 'snake', 'spider', 'squirrel', 'streetcar', 'sunflower', 'sweet_pepper', 'table', 'tank', 'telephone', 'television', 'tiger', 'tractor', 'train', 'trout', 'tulip', 'turtle', 'wardrobe', 'whale', 'willow_tree', 'wolf', 'woman', 'worm']\n"
      ]
    },
    {
      "cell_type": "code",
      "execution_count": 4,
      "metadata": {
        "colab": {
          "base_uri": "https://localhost:8080/"
        },
        "id": "FoZW7A6ywK1Y",
        "outputId": "ab886359-f5ff-44b1-c781-e14ec0213e3f"
      },
      "outputs": [
        {
          "output_type": "stream",
          "name": "stdout",
          "text": [
            "x_train shape: (50000, 32, 32, 3)\n",
            "y_train shape: (50000, 1)\n",
            "x_test shape: (10000, 32, 32, 3)\n",
            "y_test shape: (10000, 1)\n"
          ]
        }
      ],
      "source": [
        "# Imprimir las formas de los datos para verificar\n",
        "print(f'x_train shape: {x_train.shape}')\n",
        "print(f'y_train shape: {y_train.shape}')\n",
        "print(f'x_test shape: {x_test.shape}')\n",
        "print(f'y_test shape: {y_test.shape}')"
      ]
    },
    {
      "cell_type": "markdown",
      "metadata": {
        "id": "aXQLJaanwkqr"
      },
      "source": [
        "### **Estrategia 1: Red pre-entrenada**"
      ]
    },
    {
      "cell_type": "markdown",
      "metadata": {
        "id": "Jqqi9Yb23A3j"
      },
      "source": [
        "###**Red 1: VGG16**"
      ]
    },
    {
      "cell_type": "markdown",
      "metadata": {
        "id": "33ThJmtC0nfx"
      },
      "source": [
        "Como primera red pre-entrenada, elegimos VGG16 por considerarse simple y usar capas convolucionales estándar. Igualmente, aunque la arquitectura sea simple, parece ser pesada, por sus requerimientos de memoria (528MB según la documentación de Keras)."
      ]
    },
    {
      "cell_type": "markdown",
      "metadata": {
        "id": "gfFOUgwo5IgX"
      },
      "source": [
        "**Acondicionamos los datos de entrenamiento**"
      ]
    },
    {
      "cell_type": "markdown",
      "metadata": {
        "id": "cdsQHZz_6B6i"
      },
      "source": [
        "Imprimimos los valores mínimos y máximos antes de realizar cualquier cambio para tener una referencia de cómo cambiarán los datos tras el procesamiento"
      ]
    },
    {
      "cell_type": "code",
      "execution_count": 5,
      "metadata": {
        "colab": {
          "base_uri": "https://localhost:8080/"
        },
        "id": "8AFnOlt34T4c",
        "outputId": "85f32d7f-14c2-43ed-f305-b9d4642686b0"
      },
      "outputs": [
        {
          "output_type": "stream",
          "name": "stdout",
          "text": [
            "255\n",
            "0\n"
          ]
        }
      ],
      "source": [
        "print(x_train.max())\n",
        "print(x_train.min())\n"
      ]
    },
    {
      "cell_type": "markdown",
      "metadata": {
        "id": "owROwHYe65ER"
      },
      "source": [
        "Realizamos OHE sobre las etiquetas de test y train."
      ]
    },
    {
      "cell_type": "code",
      "execution_count": 7,
      "metadata": {
        "colab": {
          "base_uri": "https://localhost:8080/"
        },
        "id": "AFcGNkqrJj9T",
        "outputId": "d777815b-62f1-490d-f050-e78e929f7c1a"
      },
      "outputs": [
        {
          "output_type": "stream",
          "name": "stdout",
          "text": [
            "Forma de y_train antes de la conversión: (50000, 1)\n",
            "Forma de y_test antes de la conversión: (10000, 1)\n"
          ]
        }
      ],
      "source": [
        "print(\"Forma de y_train antes de la conversión:\", y_train.shape)\n",
        "print(\"Forma de y_test antes de la conversión:\", y_test.shape)"
      ]
    },
    {
      "cell_type": "code",
      "execution_count": 8,
      "metadata": {
        "id": "v4ICxBN17Fbn"
      },
      "outputs": [],
      "source": [
        "lb = LabelBinarizer()\n",
        "y_train = lb.fit_transform(y_train)\n",
        "y_test = lb.transform(y_test)"
      ]
    },
    {
      "cell_type": "code",
      "execution_count": 9,
      "metadata": {
        "colab": {
          "base_uri": "https://localhost:8080/"
        },
        "id": "r-WxiFx6NxNW",
        "outputId": "553435f6-6173-4d10-efa4-a46ea035ff99"
      },
      "outputs": [
        {
          "output_type": "stream",
          "name": "stdout",
          "text": [
            "Forma de y_train después de la conversión 1: (50000, 100)\n",
            "Forma de y_test después de la conversión 1: (10000, 100)\n"
          ]
        }
      ],
      "source": [
        "print(\"Forma de y_train después de la conversión 1:\", y_train.shape)\n",
        "print(\"Forma de y_test después de la conversión 1:\", y_test.shape)"
      ]
    },
    {
      "cell_type": "markdown",
      "metadata": {
        "id": "BJWJDRMj8B_1"
      },
      "source": [
        "Importamos la arquitectura VGG16 y aplicamos el preprocesamiento  necesario específicamente para esta red neuronal."
      ]
    },
    {
      "cell_type": "code",
      "execution_count": 10,
      "metadata": {
        "id": "VJPH2DB98AgQ"
      },
      "outputs": [],
      "source": [
        "from tensorflow.keras.applications import vgg16\n",
        "x_train = vgg16.preprocess_input(x_train)\n",
        "x_test = vgg16.preprocess_input(x_test)\n"
      ]
    },
    {
      "cell_type": "markdown",
      "metadata": {
        "id": "NaO1AEPR8hR7"
      },
      "source": [
        "Comprobamos cómo han cambiado los datos tras el procesamiento."
      ]
    },
    {
      "cell_type": "code",
      "execution_count": 11,
      "metadata": {
        "colab": {
          "base_uri": "https://localhost:8080/"
        },
        "id": "5fpgfF7t8lOR",
        "outputId": "367a3ac5-9172-46e5-e7dc-975dd9b7523b"
      },
      "outputs": [
        {
          "output_type": "stream",
          "name": "stdout",
          "text": [
            "151.061\n",
            "-123.68\n"
          ]
        }
      ],
      "source": [
        "print(x_train.max())\n",
        "print(x_train.min())"
      ]
    },
    {
      "cell_type": "markdown",
      "metadata": {
        "id": "S2JZw6tH9Q6X"
      },
      "source": [
        "**Cargamos el base model**"
      ]
    },
    {
      "cell_type": "code",
      "execution_count": 12,
      "metadata": {
        "colab": {
          "base_uri": "https://localhost:8080/"
        },
        "id": "XKcbI9yn9bIJ",
        "outputId": "2f15769b-3a6c-462f-9142-c9b5d9b9e817"
      },
      "outputs": [
        {
          "output_type": "stream",
          "name": "stdout",
          "text": [
            "Downloading data from https://storage.googleapis.com/tensorflow/keras-applications/vgg16/vgg16_weights_tf_dim_ordering_tf_kernels_notop.h5\n",
            "58889256/58889256 [==============================] - 4s 0us/step\n",
            "Model: \"vgg16\"\n",
            "_________________________________________________________________\n",
            " Layer (type)                Output Shape              Param #   \n",
            "=================================================================\n",
            " input_1 (InputLayer)        [(None, 32, 32, 3)]       0         \n",
            "                                                                 \n",
            " block1_conv1 (Conv2D)       (None, 32, 32, 64)        1792      \n",
            "                                                                 \n",
            " block1_conv2 (Conv2D)       (None, 32, 32, 64)        36928     \n",
            "                                                                 \n",
            " block1_pool (MaxPooling2D)  (None, 16, 16, 64)        0         \n",
            "                                                                 \n",
            " block2_conv1 (Conv2D)       (None, 16, 16, 128)       73856     \n",
            "                                                                 \n",
            " block2_conv2 (Conv2D)       (None, 16, 16, 128)       147584    \n",
            "                                                                 \n",
            " block2_pool (MaxPooling2D)  (None, 8, 8, 128)         0         \n",
            "                                                                 \n",
            " block3_conv1 (Conv2D)       (None, 8, 8, 256)         295168    \n",
            "                                                                 \n",
            " block3_conv2 (Conv2D)       (None, 8, 8, 256)         590080    \n",
            "                                                                 \n",
            " block3_conv3 (Conv2D)       (None, 8, 8, 256)         590080    \n",
            "                                                                 \n",
            " block3_pool (MaxPooling2D)  (None, 4, 4, 256)         0         \n",
            "                                                                 \n",
            " block4_conv1 (Conv2D)       (None, 4, 4, 512)         1180160   \n",
            "                                                                 \n",
            " block4_conv2 (Conv2D)       (None, 4, 4, 512)         2359808   \n",
            "                                                                 \n",
            " block4_conv3 (Conv2D)       (None, 4, 4, 512)         2359808   \n",
            "                                                                 \n",
            " block4_pool (MaxPooling2D)  (None, 2, 2, 512)         0         \n",
            "                                                                 \n",
            " block5_conv1 (Conv2D)       (None, 2, 2, 512)         2359808   \n",
            "                                                                 \n",
            " block5_conv2 (Conv2D)       (None, 2, 2, 512)         2359808   \n",
            "                                                                 \n",
            " block5_conv3 (Conv2D)       (None, 2, 2, 512)         2359808   \n",
            "                                                                 \n",
            " block5_pool (MaxPooling2D)  (None, 1, 1, 512)         0         \n",
            "                                                                 \n",
            "=================================================================\n",
            "Total params: 14714688 (56.13 MB)\n",
            "Trainable params: 14714688 (56.13 MB)\n",
            "Non-trainable params: 0 (0.00 Byte)\n",
            "_________________________________________________________________\n"
          ]
        }
      ],
      "source": [
        "base_model = vgg16.VGG16(weights='imagenet',\n",
        "                 include_top=False, # No incluir el Top Model (parte destinada a la clasificación)\n",
        "                 input_shape=(32,32,3))\n",
        "base_model.summary()"
      ]
    },
    {
      "cell_type": "markdown",
      "metadata": {
        "id": "S_g7SMd7A615"
      },
      "source": [
        "#### **Transfer Learning**"
      ]
    },
    {
      "cell_type": "markdown",
      "metadata": {
        "id": "TYpkKygmD-mp"
      },
      "source": [
        "**Congelando el modelo base y creando el top model**"
      ]
    },
    {
      "cell_type": "markdown",
      "metadata": {
        "id": "0r9OaM5KCi4O"
      },
      "source": [
        "Primero importamos las clases necesarios y congelamos el base model, es decir, hacemos que sus pesos no se actualicen durante el entrenamiento"
      ]
    },
    {
      "cell_type": "code",
      "execution_count": 13,
      "metadata": {
        "id": "3lGRgUUpC3L8"
      },
      "outputs": [],
      "source": [
        "from tensorflow.keras.models import Sequential\n",
        "from tensorflow.keras import layers\n",
        "\n",
        "base_model.trainable = False"
      ]
    },
    {
      "cell_type": "markdown",
      "metadata": {
        "id": "XhqLZBfhDJV-"
      },
      "source": [
        "Creamos un nuevo modelo secuencial y lo conectamos con nuestro base model"
      ]
    },
    {
      "cell_type": "code",
      "execution_count": 14,
      "metadata": {
        "id": "CDZ3Zu_uDJy3"
      },
      "outputs": [],
      "source": [
        "pre_trained_model = Sequential()\n",
        "pre_trained_model.add(base_model)"
      ]
    },
    {
      "cell_type": "markdown",
      "metadata": {
        "id": "YzGBQ8zXDWjA"
      },
      "source": [
        "Ahora, añadimos más capas al nuevo modelo y observamos el resumen de nuestro \"top model\""
      ]
    },
    {
      "cell_type": "code",
      "execution_count": 15,
      "metadata": {
        "colab": {
          "base_uri": "https://localhost:8080/"
        },
        "id": "hRH2aQvqDfYK",
        "outputId": "88b2219d-9918-49bc-80f2-ec2ae7552194"
      },
      "outputs": [
        {
          "output_type": "stream",
          "name": "stdout",
          "text": [
            "Model: \"sequential\"\n",
            "_________________________________________________________________\n",
            " Layer (type)                Output Shape              Param #   \n",
            "=================================================================\n",
            " vgg16 (Functional)          (None, 1, 1, 512)         14714688  \n",
            "                                                                 \n",
            " flatten (Flatten)           (None, 512)               0         \n",
            "                                                                 \n",
            " dense (Dense)               (None, 256)               131328    \n",
            "                                                                 \n",
            " dense_1 (Dense)             (None, 100)               25700     \n",
            "                                                                 \n",
            "=================================================================\n",
            "Total params: 14871716 (56.73 MB)\n",
            "Trainable params: 157028 (613.39 KB)\n",
            "Non-trainable params: 14714688 (56.13 MB)\n",
            "_________________________________________________________________\n"
          ]
        }
      ],
      "source": [
        "pre_trained_model.add(layers.Flatten())\n",
        "pre_trained_model.add(layers.Dense(256, activation='relu'))\n",
        "pre_trained_model.add(layers.Dense(100, activation='softmax'))\n",
        "\n",
        "pre_trained_model.summary()"
      ]
    },
    {
      "cell_type": "markdown",
      "metadata": {
        "id": "HA7hLgX9BJy8"
      },
      "source": [
        "**Entrenando el top model**"
      ]
    },
    {
      "cell_type": "code",
      "execution_count": 16,
      "metadata": {
        "id": "WMOi4TaoEIdJ"
      },
      "outputs": [],
      "source": [
        "import numpy as np\n",
        "from tensorflow.keras import backend as K\n",
        "from tensorflow.keras.layers import Input, Conv2D, Activation, Flatten, Dense, Dropout, BatchNormalization, MaxPooling2D\n",
        "from tensorflow.keras.models import Model\n",
        "from tensorflow.keras.optimizers import SGD, Adam\n",
        "from sklearn.metrics import classification_report\n",
        "import matplotlib.pyplot as plt\n",
        "from google.colab import drive"
      ]
    },
    {
      "cell_type": "code",
      "execution_count": 20,
      "metadata": {
        "colab": {
          "base_uri": "https://localhost:8080/",
          "height": 1000
        },
        "id": "QXyR0VZMID96",
        "outputId": "332df38f-c008-48b6-8d9a-67c1072d40e8"
      },
      "outputs": [
        {
          "output_type": "stream",
          "name": "stdout",
          "text": [
            "[INFO]: Compilando el modelo...\n",
            "[INFO]: Entrenando la red...\n",
            "Epoch 1/20\n",
            "313/313 [==============================] - 9s 25ms/step - loss: 0.0600 - accuracy: 0.9855 - val_loss: 10.3922 - val_accuracy: 0.3165\n",
            "Epoch 2/20\n",
            "313/313 [==============================] - 6s 20ms/step - loss: 0.0615 - accuracy: 0.9837 - val_loss: 10.6165 - val_accuracy: 0.3164\n",
            "Epoch 3/20\n",
            "313/313 [==============================] - 6s 21ms/step - loss: 0.0524 - accuracy: 0.9880 - val_loss: 10.7231 - val_accuracy: 0.3167\n",
            "Epoch 4/20\n",
            "313/313 [==============================] - 7s 21ms/step - loss: 0.0370 - accuracy: 0.9926 - val_loss: 10.8309 - val_accuracy: 0.3191\n",
            "Epoch 5/20\n",
            "313/313 [==============================] - 7s 22ms/step - loss: 0.0265 - accuracy: 0.9957 - val_loss: 10.7981 - val_accuracy: 0.3179\n",
            "Epoch 6/20\n",
            "313/313 [==============================] - 7s 23ms/step - loss: 0.0204 - accuracy: 0.9968 - val_loss: 10.8917 - val_accuracy: 0.3214\n",
            "Epoch 7/20\n",
            "313/313 [==============================] - 6s 20ms/step - loss: 0.0139 - accuracy: 0.9987 - val_loss: 11.0141 - val_accuracy: 0.3198\n",
            "Epoch 8/20\n",
            "313/313 [==============================] - 6s 20ms/step - loss: 0.0095 - accuracy: 0.9994 - val_loss: 11.0782 - val_accuracy: 0.3208\n",
            "Epoch 9/20\n",
            "313/313 [==============================] - 6s 20ms/step - loss: 0.0099 - accuracy: 0.9989 - val_loss: 11.2524 - val_accuracy: 0.3218\n",
            "Epoch 10/20\n",
            "313/313 [==============================] - 7s 22ms/step - loss: 0.1824 - accuracy: 0.9460 - val_loss: 11.1795 - val_accuracy: 0.3126\n",
            "Epoch 11/20\n",
            "313/313 [==============================] - 6s 20ms/step - loss: 0.2327 - accuracy: 0.9284 - val_loss: 11.2495 - val_accuracy: 0.3156\n",
            "Epoch 12/20\n",
            "313/313 [==============================] - 7s 21ms/step - loss: 0.0717 - accuracy: 0.9797 - val_loss: 11.3612 - val_accuracy: 0.3146\n",
            "Epoch 13/20\n",
            "313/313 [==============================] - 6s 20ms/step - loss: 0.0201 - accuracy: 0.9975 - val_loss: 11.4969 - val_accuracy: 0.3204\n",
            "Epoch 14/20\n",
            "313/313 [==============================] - 7s 21ms/step - loss: 0.0113 - accuracy: 0.9990 - val_loss: 11.6144 - val_accuracy: 0.3191\n",
            "Epoch 15/20\n",
            "313/313 [==============================] - 6s 20ms/step - loss: 0.0091 - accuracy: 0.9994 - val_loss: 11.6585 - val_accuracy: 0.3179\n",
            "Epoch 16/20\n",
            "313/313 [==============================] - 6s 21ms/step - loss: 0.0134 - accuracy: 0.9980 - val_loss: 11.6914 - val_accuracy: 0.3198\n",
            "Epoch 17/20\n",
            "313/313 [==============================] - 6s 20ms/step - loss: 0.0086 - accuracy: 0.9992 - val_loss: 11.7753 - val_accuracy: 0.3211\n",
            "Epoch 18/20\n",
            "313/313 [==============================] - 6s 21ms/step - loss: 0.0176 - accuracy: 0.9972 - val_loss: 11.7915 - val_accuracy: 0.3202\n",
            "Epoch 19/20\n",
            "313/313 [==============================] - 6s 21ms/step - loss: 0.0286 - accuracy: 0.9940 - val_loss: 11.8139 - val_accuracy: 0.3169\n",
            "Epoch 20/20\n",
            "313/313 [==============================] - 6s 20ms/step - loss: 0.1583 - accuracy: 0.9510 - val_loss: 11.9936 - val_accuracy: 0.3121\n",
            "Drive already mounted at /content/drive; to attempt to forcibly remount, call drive.mount(\"/content/drive\", force_remount=True).\n",
            "[INFO]: Evaluando el modelo...\n",
            "79/79 [==============================] - 1s 15ms/step\n",
            "               precision    recall  f1-score   support\n",
            "\n",
            "        apple       0.68      0.69      0.69       100\n",
            "aquarium_fish       0.37      0.42      0.39       100\n",
            "         baby       0.20      0.23      0.21       100\n",
            "         bear       0.13      0.14      0.14       100\n",
            "       beaver       0.13      0.14      0.14       100\n",
            "          bed       0.25      0.28      0.26       100\n",
            "          bee       0.31      0.28      0.30       100\n",
            "       beetle       0.39      0.39      0.39       100\n",
            "      bicycle       0.40      0.38      0.39       100\n",
            "       bottle       0.40      0.43      0.42       100\n",
            "         bowl       0.23      0.24      0.24       100\n",
            "          boy       0.16      0.17      0.16       100\n",
            "       bridge       0.29      0.41      0.34       100\n",
            "          bus       0.23      0.20      0.21       100\n",
            "    butterfly       0.17      0.24      0.20       100\n",
            "        camel       0.29      0.25      0.27       100\n",
            "          can       0.45      0.49      0.47       100\n",
            "       castle       0.44      0.55      0.49       100\n",
            "  caterpillar       0.28      0.36      0.31       100\n",
            "       cattle       0.26      0.20      0.23       100\n",
            "        chair       0.53      0.46      0.49       100\n",
            "   chimpanzee       0.45      0.38      0.41       100\n",
            "        clock       0.36      0.40      0.38       100\n",
            "        cloud       0.54      0.51      0.52       100\n",
            "    cockroach       0.52      0.53      0.52       100\n",
            "        couch       0.17      0.12      0.14       100\n",
            "         crab       0.17      0.20      0.18       100\n",
            "    crocodile       0.21      0.28      0.24       100\n",
            "          cup       0.40      0.48      0.43       100\n",
            "     dinosaur       0.30      0.20      0.24       100\n",
            "      dolphin       0.39      0.39      0.39       100\n",
            "     elephant       0.27      0.34      0.30       100\n",
            "     flatfish       0.23      0.20      0.22       100\n",
            "       forest       0.40      0.26      0.32       100\n",
            "          fox       0.21      0.23      0.22       100\n",
            "         girl       0.15      0.14      0.14       100\n",
            "      hamster       0.31      0.29      0.30       100\n",
            "        house       0.26      0.29      0.27       100\n",
            "     kangaroo       0.07      0.06      0.06       100\n",
            "     keyboard       0.74      0.73      0.74       100\n",
            "         lamp       0.23      0.27      0.25       100\n",
            "   lawn_mower       0.50      0.55      0.52       100\n",
            "      leopard       0.26      0.24      0.25       100\n",
            "         lion       0.33      0.34      0.33       100\n",
            "       lizard       0.13      0.13      0.13       100\n",
            "      lobster       0.16      0.14      0.15       100\n",
            "          man       0.25      0.23      0.24       100\n",
            "   maple_tree       0.43      0.33      0.37       100\n",
            "   motorcycle       0.46      0.44      0.45       100\n",
            "     mountain       0.51      0.46      0.48       100\n",
            "        mouse       0.09      0.08      0.09       100\n",
            "     mushroom       0.21      0.19      0.20       100\n",
            "     oak_tree       0.46      0.41      0.43       100\n",
            "       orange       0.67      0.74      0.70       100\n",
            "       orchid       0.41      0.41      0.41       100\n",
            "        otter       0.06      0.05      0.05       100\n",
            "    palm_tree       0.44      0.44      0.44       100\n",
            "         pear       0.32      0.37      0.34       100\n",
            " pickup_truck       0.37      0.40      0.39       100\n",
            "    pine_tree       0.34      0.33      0.33       100\n",
            "        plain       0.64      0.59      0.61       100\n",
            "        plate       0.47      0.44      0.46       100\n",
            "        poppy       0.51      0.44      0.47       100\n",
            "    porcupine       0.30      0.30      0.30       100\n",
            "       possum       0.13      0.14      0.14       100\n",
            "       rabbit       0.19      0.18      0.19       100\n",
            "      raccoon       0.12      0.14      0.13       100\n",
            "          ray       0.23      0.24      0.24       100\n",
            "         road       0.55      0.54      0.54       100\n",
            "       rocket       0.49      0.47      0.48       100\n",
            "         rose       0.37      0.46      0.41       100\n",
            "          sea       0.52      0.49      0.51       100\n",
            "         seal       0.10      0.12      0.11       100\n",
            "        shark       0.37      0.26      0.30       100\n",
            "        shrew       0.16      0.15      0.15       100\n",
            "        skunk       0.43      0.35      0.38       100\n",
            "   skyscraper       0.71      0.58      0.64       100\n",
            "        snail       0.21      0.22      0.22       100\n",
            "        snake       0.31      0.22      0.26       100\n",
            "       spider       0.22      0.17      0.19       100\n",
            "     squirrel       0.12      0.10      0.11       100\n",
            "    streetcar       0.23      0.26      0.25       100\n",
            "    sunflower       0.65      0.64      0.64       100\n",
            " sweet_pepper       0.35      0.36      0.36       100\n",
            "        table       0.17      0.18      0.17       100\n",
            "         tank       0.28      0.29      0.28       100\n",
            "    telephone       0.52      0.44      0.48       100\n",
            "   television       0.52      0.48      0.50       100\n",
            "        tiger       0.23      0.25      0.24       100\n",
            "      tractor       0.22      0.30      0.25       100\n",
            "        train       0.29      0.29      0.29       100\n",
            "        trout       0.24      0.35      0.29       100\n",
            "        tulip       0.36      0.28      0.31       100\n",
            "       turtle       0.15      0.17      0.16       100\n",
            "     wardrobe       0.72      0.56      0.63       100\n",
            "        whale       0.42      0.44      0.43       100\n",
            "  willow_tree       0.27      0.31      0.29       100\n",
            "         wolf       0.28      0.31      0.29       100\n",
            "        woman       0.15      0.08      0.10       100\n",
            "         worm       0.51      0.50      0.51       100\n",
            "\n",
            "     accuracy                           0.33     10000\n",
            "    macro avg       0.33      0.33      0.33     10000\n",
            " weighted avg       0.33      0.33      0.33     10000\n",
            "\n"
          ]
        },
        {
          "output_type": "display_data",
          "data": {
            "text/plain": [
              "<Figure size 640x480 with 1 Axes>"
            ],
            "image/png": "[encoded data removed]"
          },
          "metadata": {}
        }
      ],
      "source": [
        "# Compilar el modelo\n",
        "print(\"[INFO]: Compilando el modelo...\")\n",
        "pre_trained_model.compile(loss=\"categorical_crossentropy\", optimizer=Adam(learning_rate=0.0005), metrics=[\"accuracy\"])\n",
        "\n",
        "# Entrenamiento de la red\n",
        "print(\"[INFO]: Entrenando la red...\")\n",
        "H_pre = pre_trained_model.fit(x_train, y_train, batch_size=128, epochs=20, validation_split=0.2)\n",
        "\n",
        "# Montamos la unidad de Drive\n",
        "drive.mount('/content/drive')\n",
        "# Almacenamos el modelo empleando la función mdoel.save de Keras\n",
        "pre_trained_model.save(\"/content/sample_data/deepCNN_CIFAR10_pretrained.h5\")\n",
        "\n",
        "# Evaluación del modelo\n",
        "print(\"[INFO]: Evaluando el modelo...\")\n",
        "\n",
        "# Efectuamos la predicción (empleamos el mismo valor de batch_size que en training)\n",
        "predictions = pre_trained_model.predict(x_test, batch_size=128)\n",
        "\n",
        "# Sacamos el report para test\n",
        "print(classification_report(y_test.argmax(axis=1), predictions.argmax(axis=1), target_names=labelNames))\n",
        "\n",
        "# Gráficas\n",
        "plt.style.use(\"ggplot\")\n",
        "plt.figure()\n",
        "plt.plot(np.arange(0, 20), H_pre.history[\"loss\"], label=\"train_loss\")\n",
        "plt.plot(np.arange(0, 20), H_pre.history[\"val_loss\"], label=\"val_loss\")\n",
        "plt.plot(np.arange(0, 20), H_pre.history[\"accuracy\"], label=\"train_acc\")\n",
        "plt.plot(np.arange(0, 20), H_pre.history[\"val_accuracy\"], label=\"val_acc\")\n",
        "plt.title(\"Training Loss and Accuracy\")\n",
        "plt.xlabel(\"Epoch #\")\n",
        "plt.ylabel(\"Loss/Accuracy\")\n",
        "plt.legend()\n",
        "plt.show()"
      ]
    },
    {
      "cell_type": "markdown",
      "metadata": {
        "id": "vvEzAuWI53uO"
      },
      "source": [
        "#### **Fine Tuning**"
      ]
    },
    {
      "cell_type": "markdown",
      "metadata": {
        "id": "kkmZs6Vw4Qtl"
      },
      "source": [
        "\n",
        "###**Red 2: MobileNet**\n"
      ]
    },
    {
      "cell_type": "markdown",
      "metadata": {
        "id": "uCRhtCGu3TBP"
      },
      "source": [
        "Como segunda red pre-entrenada, elegimos MobileNet por tener una arquitectura muy distinta a la de VGG16, y considerarse un modelo más eficiente (cosa que también comprobamos al mirar sus requerimientos de memoria que en la documentación de Keras son 16MB)"
      ]
    },
    {
      "cell_type": "markdown",
      "metadata": {
        "id": "X4V6-5yrywva"
      },
      "source": [
        "### **Estrategia 2: Entrenar desde cero o from scratch**"
      ]
    }
  ],
  "metadata": {
    "accelerator": "GPU",
    "colab": {
      "provenance": []
    },
    "gpuClass": "standard",
    "kernelspec": {
      "display_name": "Python 3",
      "name": "python3"
    },
    "language_info": {
      "codemirror_mode": {
        "name": "ipython",
        "version": 3
      },
      "file_extension": ".py",
      "mimetype": "text/x-python",
      "name": "python",
      "nbconvert_exporter": "python",
      "pygments_lexer": "ipython3",
      "version": "3.12.2"
    }
  },
  "nbformat": 4,
  "nbformat_minor": 0
}